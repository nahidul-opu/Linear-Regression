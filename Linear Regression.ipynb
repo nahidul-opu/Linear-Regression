{
 "cells": [
  {
   "cell_type": "code",
   "execution_count": 5,
   "source": [
    "import pandas as pd\r\n",
    "import numpy as np\r\n",
    "import random\r\n",
    "from sklearn.linear_model import LinearRegression\r\n",
    "import matplotlib.pyplot as plt \r\n",
    "from sklearn.model_selection import train_test_split\r\n",
    "from sklearn.metrics import r2_score, mean_squared_error\r\n",
    "from sklearn.metrics import mean_squared_error"
   ],
   "outputs": [],
   "metadata": {}
  },
  {
   "cell_type": "code",
   "execution_count": 6,
   "source": [
    "df = pd.read_csv(\"MLData.csv\")\r\n",
    "columns = [\"Timestamp\",\"Level\",\"Class\",\"Scale\",\"Gender\",\"Age\",\"Residence\",\"RelationshipStatus\",\"FinanceState\",\"CopeWithInstitute\",\"RelationWithFamily\",\"Pressure\",\"AcademicResult\",\"LivingPlace\",\"SupportedBy\",\"SocialMediaIn6\",\"InferiorityComplex\",\"MealSatisfaction\",\"Health\",\"OtherPositiveActivity\",\"SleepTime\"]\r\n",
    "df.columns = columns\r\n",
    "df = df.sample(frac=1).reset_index(drop=True)\r\n",
    "Class_Status = df[\"Class\"]\r\n",
    "Class_Scale = df[\"Scale\"]\r\n",
    "df.drop([\"Class\",\"Scale\", \"Timestamp\"], axis=1, inplace=True)\r\n",
    "columns = [\"Level\",\"Gender\",\"Residence\",\"RelationshipStatus\",\"FinanceState\",\"CopeWithInstitute\",\"RelationWithFamily\",\"Pressure\",\"AcademicResult\",\"LivingPlace\",\"SupportedBy\",\"SocialMediaIn6\",\"InferiorityComplex\",\"MealSatisfaction\",\"Health\",\"OtherPositiveActivity\"]\r\n",
    "df_Enc = pd.get_dummies(df, columns=columns)\r\n",
    "x_train, x_test, y_train, y_test= train_test_split(df_Enc, Class_Scale, test_size= 0.2, random_state=1) "
   ],
   "outputs": [],
   "metadata": {}
  },
  {
   "cell_type": "code",
   "execution_count": 7,
   "source": [
    "reg = LinearRegression().fit(x_train, y_train)\r\n",
    "\r\n",
    "\r\n",
    "y_pred = reg.predict(x_train)\r\n",
    "train_r2 = r2_score(y_train, y_pred)\r\n",
    "print(\"Training R2 Score: {}\".format(train_r2))\r\n",
    "train_mse = mean_squared_error(y_train, y_pred)\r\n",
    "print(\"Training mse Score: {}\".format(train_mse))\r\n",
    "\r\n",
    "y_pred = reg.predict(x_test)\r\n",
    "test_r2 = r2_score(y_test, y_pred)\r\n",
    "print(\"Testing r2 Score: {}\".format(test_r2))\r\n",
    "test_mse = mean_squared_error(y_test, y_pred)\r\n",
    "print(\"Testing mse Score: {}\".format(test_mse))\r\n",
    "\r\n",
    "\r\n",
    "print(reg.coef_)\r\n",
    "print(reg.intercept_)"
   ],
   "outputs": [
    {
     "output_type": "stream",
     "name": "stdout",
     "text": [
      "Training R2 Score: 0.7027482183515525\n",
      "Training mse Score: 249.03126892056957\n",
      "Testing r2 Score: 0.594083691127858\n",
      "Testing mse Score: 298.0328472715\n",
      "[-5.32700239e+09  8.56472015e-01  1.38157858e+12  1.38690558e+12\n",
      "  1.39223259e+12  1.39755959e+12  7.00917780e+11  3.91631006e+12\n",
      "  3.91631006e+12  3.91631006e+12  1.02160899e+12  1.02160899e+12\n",
      " -1.07516311e+12 -1.07516311e+12  5.10818324e+11  5.10818324e+11\n",
      "  5.10818324e+11  5.10818324e+11 -2.01035856e+10 -1.01578124e+12\n",
      " -1.01578124e+12 -2.16473141e+12 -2.16473141e+12 -1.16080396e+12\n",
      " -1.16080396e+12 -1.16080396e+12 -1.62875587e+11 -1.62875587e+11\n",
      " -2.25837257e+11 -7.56759167e+11 -7.56759167e+11 -2.22041701e+12\n",
      " -2.22041701e+12  5.27867259e+11  5.27867259e+11 -2.58575462e+11\n",
      " -2.58575462e+11 -2.58575462e+11  1.44833111e+12  1.44833111e+12\n",
      "  4.98262631e+11  4.98262631e+11]\n",
      "-1089374745822.9265\n"
     ]
    }
   ],
   "metadata": {}
  },
  {
   "cell_type": "code",
   "execution_count": 8,
   "source": [
    "from LinearRegression import LinearRegression as OwnLR\r\n",
    "lr = OwnLR(max_iteration=10000,learning_rate=0.001)\r\n",
    "lr.fit(x_train,y_train)\r\n",
    "y_pred = lr.predict(x_train)\r\n",
    "train_r2 = r2_score(y_train, y_pred)\r\n",
    "print(\"Training R2 Score: {}\".format(train_r2))\r\n",
    "train_mse = mean_squared_error(y_train,y_pred)\r\n",
    "print(\"Training mse Score: {}\".format(train_mse))\r\n",
    "\r\n",
    "y_pred = lr.predict(x_test)\r\n",
    "test_r2 = r2_score(y_test, y_pred)\r\n",
    "print(\"Testing r2 Score: {}\".format(test_r2))\r\n",
    "test_mse = mean_squared_error(y_test,y_pred)\r\n",
    "print(\"Testing mse Score: {}\".format(test_mse))\r\n",
    "\r\n",
    "\r\n",
    "print(lr.coeff)\r\n",
    "print(lr.intercept)"
   ],
   "outputs": [
    {
     "output_type": "stream",
     "name": "stdout",
     "text": [
      "Training R2 Score: 0.690038963655097\n",
      "Training mse Score: 259.6788142659367\n",
      "Testing r2 Score: 0.5792201516575277\n",
      "Testing mse Score: 308.94599092217845\n",
      "[ 2.02153504e+00  3.82606088e-01 -2.81592411e+00  5.27625943e+00\n",
      " -3.25245484e+00  8.31838915e-01  3.97193971e-02 -1.19446377e+00\n",
      " -8.98874332e+00  1.02229265e+01  3.57681200e+00 -3.53709260e+00\n",
      " -3.39946930e+00  3.43918870e+00 -1.10357398e+00 -3.05229815e+00\n",
      " -7.69291087e+00  1.02303649e+01  1.65813751e+00 -1.49265382e+00\n",
      "  1.53237322e+00 -7.00830369e-01  7.40549766e-01 -8.39729032e+00\n",
      "  2.95143240e-04  8.43671458e+00 -4.44858241e-01  4.84577639e-01\n",
      "  1.65813751e+00 -5.75312263e-01 -1.04310585e+00  7.39859976e-01\n",
      " -7.00140579e-01  8.71910110e+00 -8.67938170e+00 -1.25918834e+00\n",
      "  1.46119857e+00 -1.62290836e-01  3.14558946e+00 -3.10587006e+00\n",
      " -9.95642536e+00  9.99614476e+00]\n",
      "0.039719397093660895\n"
     ]
    }
   ],
   "metadata": {}
  }
 ],
 "metadata": {
  "kernelspec": {
   "name": "python3",
   "display_name": "Python 3.6.7 64-bit"
  },
  "language_info": {
   "codemirror_mode": {
    "name": "ipython",
    "version": 3
   },
   "file_extension": ".py",
   "mimetype": "text/x-python",
   "name": "python",
   "nbconvert_exporter": "python",
   "pygments_lexer": "ipython3",
   "version": "3.6.7"
  },
  "interpreter": {
   "hash": "843d4b48862ce9684ddbccf7553db88da96873dba1832a918df8375d27de0898"
  }
 },
 "nbformat": 4,
 "nbformat_minor": 4
}