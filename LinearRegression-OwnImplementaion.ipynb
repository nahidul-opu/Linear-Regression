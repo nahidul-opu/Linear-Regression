{
 "cells": [
  {
   "cell_type": "code",
   "execution_count": 1,
   "source": [
    "import pandas as pd\r\n",
    "import numpy as np\r\n",
    "\r\n",
    "class LinearRegression:\r\n",
    "    def __init__(self, max_iteration = 10000, max_mse = None, patience = 5,learning_rate = 0.001,threshold = 10):\r\n",
    "        self.max_iteration=max_iteration\r\n",
    "        self.max_mse = max_mse\r\n",
    "        self.patience = patience\r\n",
    "        self.learning_rate = learning_rate\r\n",
    "        self.threshold = threshold\r\n",
    "        return \r\n",
    "\r\n",
    "    def fit(self, X, Y):\r\n",
    "        if len(X)!=len(Y):\r\n",
    "            raise ValueError(\"Data and Label Size Must Be Same\")\r\n",
    "        if isinstance(X,pd.Series):\r\n",
    "            X = X.to_frame()\r\n",
    "        Y = Y.to_frame()\r\n",
    "        self.n = len(X)\r\n",
    "        self.coeff = [0 for _ in range(len(X.columns))]\r\n",
    "        self.intercept = 0\r\n",
    "        self.mse=[]\r\n",
    "        self.n_iteration = 0\r\n",
    "        X = X.values\r\n",
    "        Y = Y.values\r\n",
    "        while(True):\r\n",
    "            y_pred = np.sum(X*self.coeff,axis=1) + self.intercept\r\n",
    "            y_pred = y_pred.reshape(self.n,1)\r\n",
    "            current_mse = np.square(np.subtract(Y,y_pred)).mean()\r\n",
    "            self.mse.append(current_mse)\r\n",
    "            Dm = -2*(X*(Y-y_pred).reshape(self.n,1)).mean(axis=0)\r\n",
    "            Dc = -2*(Y-y_pred).mean()\r\n",
    "            self.coeff = self.coeff - Dm*self.learning_rate\r\n",
    "            self.intercept = self.intercept - Dc*self.learning_rate\r\n",
    "            self.n_iteration = self.n_iteration + 1\r\n",
    "            if self.max_mse==None:\r\n",
    "                if self.n_iteration >= self.max_iteration:\r\n",
    "                    break\r\n",
    "            else:\r\n",
    "                if self.check_for_break():\r\n",
    "                    break\r\n",
    "        \r\n",
    "    def check_for_break(self):\r\n",
    "        if abs(self.mse[-1])<=self.max_mse:\r\n",
    "            return True\r\n",
    "        elif len(self.mse)<self.patience:\r\n",
    "             return False\r\n",
    "        else:\r\n",
    "            mse0 = self.mse[-self.patience]\r\n",
    "            mse1 = self.mse[-1]\r\n",
    "            if abs(abs(mse0)-abs(mse1))<=self.threshold:\r\n",
    "                return True\r\n",
    "            else:\r\n",
    "                return False\r\n",
    "\r\n",
    "    def predict(self,X):\r\n",
    "        if isinstance(X,list):\r\n",
    "            X = [X]\r\n",
    "        if isinstance(X,pd.Series):\r\n",
    "            X = X.to_frame()\r\n",
    "        if isinstance(X,pd.DataFrame):\r\n",
    "            X = X.values\r\n",
    "        n = len(X)\r\n",
    "        return (np.sum(X*self.coeff,axis=1) + self.intercept).reshape(n,1)"
   ],
   "outputs": [],
   "metadata": {}
  },
  {
   "cell_type": "code",
   "execution_count": 2,
   "source": [
    "X = [np.random.uniform(0,5) for _ in range(100)]\r\n",
    "X1 = [np.random.uniform(0,5) for _ in range(100)]\r\n",
    "Y = [np.random.uniform(1000,5000) for _ in range(100)]\r\n",
    "df=pd.DataFrame({\"X\":X,\"X1\":X1,\"class\":Y})\r\n",
    "y_train = df['class']\r\n",
    "x_train = df.drop(['class'],axis=1)"
   ],
   "outputs": [],
   "metadata": {}
  },
  {
   "cell_type": "code",
   "execution_count": 3,
   "source": [
    "from sklearn.model_selection import train_test_split\r\n",
    "df = pd.read_csv(\"MLData.csv\")\r\n",
    "columns = [\"Timestamp\",\"Level\",\"Class\",\"Scale\",\"Gender\",\"Age\",\"Residence\",\"RelationshipStatus\",\"FinanceState\",\"CopeWithInstitute\",\"RelationWithFamily\",\"Pressure\",\"AcademicResult\",\"LivingPlace\",\"SupportedBy\",\"SocialMediaIn6\",\"InferiorityComplex\",\"MealSatisfaction\",\"Health\",\"OtherPositiveActivity\",\"SleepTime\"]\r\n",
    "df.columns = columns\r\n",
    "df = df.sample(frac=1).reset_index(drop=True)\r\n",
    "Class_Status = df[\"Class\"]\r\n",
    "Class_Scale = df[\"Scale\"]\r\n",
    "df.drop([\"Class\",\"Scale\", \"Timestamp\"], axis=1, inplace=True)\r\n",
    "columns = [\"Level\",\"Gender\",\"Residence\",\"RelationshipStatus\",\"FinanceState\",\"CopeWithInstitute\",\"RelationWithFamily\",\"Pressure\",\"AcademicResult\",\"LivingPlace\",\"SupportedBy\",\"SocialMediaIn6\",\"InferiorityComplex\",\"MealSatisfaction\",\"Health\",\"OtherPositiveActivity\"]\r\n",
    "df_Enc = pd.get_dummies(df, columns=columns)\r\n",
    "x_train, x_test, y_train, y_test= train_test_split(df_Enc, Class_Scale, test_size= 0.2, random_state=1) "
   ],
   "outputs": [],
   "metadata": {}
  },
  {
   "cell_type": "code",
   "execution_count": 4,
   "source": [
    "lr = LinearRegression(max_iteration=1000,learning_rate=0.001)\r\n",
    "lr.fit(x_train, y_train)"
   ],
   "outputs": [],
   "metadata": {}
  },
  {
   "cell_type": "code",
   "execution_count": 5,
   "source": [
    "from sklearn.metrics import r2_score, mean_squared_error\r\n",
    "y_pred = lr.predict(x_train)\r\n",
    "train_r2 = r2_score(y_train, y_pred)\r\n",
    "print(\"Training R2 Score: {}\".format(train_r2))\r\n",
    "train_mse = mean_squared_error(y_train,y_pred)\r\n",
    "print(\"Training mse Score: {}\".format(train_mse))\r\n",
    "\r\n",
    "y_pred = lr.predict(x_test)\r\n",
    "test_r2 = r2_score(y_test, y_pred)\r\n",
    "print(\"Testing r2 Score: {}\".format(test_r2))\r\n",
    "test_mse = mean_squared_error(y_test,y_pred)\r\n",
    "print(\"Testing mse Score: {}\".format(test_mse))\r\n",
    "\r\n",
    "\r\n",
    "print(lr.coeff)\r\n",
    "print(lr.intercept)"
   ],
   "outputs": [
    {
     "output_type": "stream",
     "name": "stdout",
     "text": [
      "Training R2 Score: 0.5826471131124226\n",
      "Training mse Score: 346.50706064814904\n",
      "Testing r2 Score: 0.6495406990028209\n",
      "Testing mse Score: 268.9328164111436\n",
      "[ 1.81976418  0.59513472 -0.82525936  1.54450654 -1.08022666  0.42246914\n",
      "  0.06148966 -0.12266002 -2.75470665  2.93885632  0.31663785 -0.25514819\n",
      " -1.95942669  2.02091635 -0.31581309 -3.53009061 -4.71840864  8.24802398\n",
      "  0.37777803 -0.36057478  0.42206444  3.0644485  -3.00295884 -4.49538284\n",
      " -0.34964196  4.90651447  0.4658092  -0.40431954  0.37777803 -0.24198252\n",
      " -0.07430585  1.07017528 -1.00868562  4.57102094 -4.50953128  0.17208406\n",
      "  0.79018046 -0.90077486  3.0638027  -3.00231304 -6.75855794  6.8200476 ]\n",
      "0.06148965996993739\n"
     ]
    }
   ],
   "metadata": {}
  },
  {
   "cell_type": "code",
   "execution_count": null,
   "source": [],
   "outputs": [],
   "metadata": {}
  }
 ],
 "metadata": {
  "kernelspec": {
   "name": "python3",
   "display_name": "Python 3.6.7 64-bit"
  },
  "language_info": {
   "codemirror_mode": {
    "name": "ipython",
    "version": 3
   },
   "file_extension": ".py",
   "mimetype": "text/x-python",
   "name": "python",
   "nbconvert_exporter": "python",
   "pygments_lexer": "ipython3",
   "version": "3.6.7"
  },
  "interpreter": {
   "hash": "843d4b48862ce9684ddbccf7553db88da96873dba1832a918df8375d27de0898"
  }
 },
 "nbformat": 4,
 "nbformat_minor": 4
}